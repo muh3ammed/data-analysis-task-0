{
 "cells": [
  {
   "cell_type": "markdown",
   "id": "9bb2dfbb",
   "metadata": {},
   "source": [
    "# تحليل بسيط لتحويلات العملاء\n",
    "\n",
    "Author : Mohammed Mahdi (@Muh3ammed)"
   ]
  },
  {
   "cell_type": "code",
   "execution_count": 1,
   "id": "ec9343f6",
   "metadata": {},
   "outputs": [],
   "source": [
    "import pandas as pd\n",
    "import numpy as np\n",
    "import seaborn as sns\n",
    "import matplotlib.pyplot as plt\n",
    "\n",
    "%matplotlib inline"
   ]
  },
  {
   "cell_type": "markdown",
   "id": "d16961c6",
   "metadata": {},
   "source": [
    "## قراءة البيانات"
   ]
  },
  {
   "cell_type": "code",
   "execution_count": 2,
   "id": "c46a63ad",
   "metadata": {},
   "outputs": [
    {
     "data": {
      "text/html": [
       "<div>\n",
       "<style scoped>\n",
       "    .dataframe tbody tr th:only-of-type {\n",
       "        vertical-align: middle;\n",
       "    }\n",
       "\n",
       "    .dataframe tbody tr th {\n",
       "        vertical-align: top;\n",
       "    }\n",
       "\n",
       "    .dataframe thead th {\n",
       "        text-align: right;\n",
       "    }\n",
       "</style>\n",
       "<table border=\"1\" class=\"dataframe\">\n",
       "  <thead>\n",
       "    <tr style=\"text-align: right;\">\n",
       "      <th></th>\n",
       "      <th>status</th>\n",
       "      <th>card_present_flag</th>\n",
       "      <th>bpay_biller_code</th>\n",
       "      <th>account</th>\n",
       "      <th>currency</th>\n",
       "      <th>long_lat</th>\n",
       "      <th>txn_description</th>\n",
       "      <th>merchant_id</th>\n",
       "      <th>merchant_code</th>\n",
       "      <th>first_name</th>\n",
       "      <th>...</th>\n",
       "      <th>age</th>\n",
       "      <th>merchant_suburb</th>\n",
       "      <th>merchant_state</th>\n",
       "      <th>extraction</th>\n",
       "      <th>amount</th>\n",
       "      <th>transaction_id</th>\n",
       "      <th>country</th>\n",
       "      <th>customer_id</th>\n",
       "      <th>merchant_long_lat</th>\n",
       "      <th>movement</th>\n",
       "    </tr>\n",
       "  </thead>\n",
       "  <tbody>\n",
       "    <tr>\n",
       "      <th>0</th>\n",
       "      <td>authorized</td>\n",
       "      <td>1.0</td>\n",
       "      <td>NaN</td>\n",
       "      <td>ACC-1598451071</td>\n",
       "      <td>AUD</td>\n",
       "      <td>153.41 -27.95</td>\n",
       "      <td>POS</td>\n",
       "      <td>81c48296-73be-44a7-befa-d053f48ce7cd</td>\n",
       "      <td>NaN</td>\n",
       "      <td>Diana</td>\n",
       "      <td>...</td>\n",
       "      <td>26</td>\n",
       "      <td>Ashmore</td>\n",
       "      <td>QLD</td>\n",
       "      <td>2018-08-01T01:01:15.000+0000</td>\n",
       "      <td>16.25</td>\n",
       "      <td>a623070bfead4541a6b0fff8a09e706c</td>\n",
       "      <td>Australia</td>\n",
       "      <td>CUS-2487424745</td>\n",
       "      <td>153.38 -27.99</td>\n",
       "      <td>debit</td>\n",
       "    </tr>\n",
       "    <tr>\n",
       "      <th>1</th>\n",
       "      <td>authorized</td>\n",
       "      <td>0.0</td>\n",
       "      <td>NaN</td>\n",
       "      <td>ACC-1598451071</td>\n",
       "      <td>AUD</td>\n",
       "      <td>153.41 -27.95</td>\n",
       "      <td>SALES-POS</td>\n",
       "      <td>830a451c-316e-4a6a-bf25-e37caedca49e</td>\n",
       "      <td>NaN</td>\n",
       "      <td>Diana</td>\n",
       "      <td>...</td>\n",
       "      <td>26</td>\n",
       "      <td>Sydney</td>\n",
       "      <td>NSW</td>\n",
       "      <td>2018-08-01T01:13:45.000+0000</td>\n",
       "      <td>14.19</td>\n",
       "      <td>13270a2a902145da9db4c951e04b51b9</td>\n",
       "      <td>Australia</td>\n",
       "      <td>CUS-2487424745</td>\n",
       "      <td>151.21 -33.87</td>\n",
       "      <td>debit</td>\n",
       "    </tr>\n",
       "    <tr>\n",
       "      <th>2</th>\n",
       "      <td>authorized</td>\n",
       "      <td>1.0</td>\n",
       "      <td>NaN</td>\n",
       "      <td>ACC-1222300524</td>\n",
       "      <td>AUD</td>\n",
       "      <td>151.23 -33.94</td>\n",
       "      <td>POS</td>\n",
       "      <td>835c231d-8cdf-4e96-859d-e9d571760cf0</td>\n",
       "      <td>NaN</td>\n",
       "      <td>Michael</td>\n",
       "      <td>...</td>\n",
       "      <td>38</td>\n",
       "      <td>Sydney</td>\n",
       "      <td>NSW</td>\n",
       "      <td>2018-08-01T01:26:15.000+0000</td>\n",
       "      <td>6.42</td>\n",
       "      <td>feb79e7ecd7048a5a36ec889d1a94270</td>\n",
       "      <td>Australia</td>\n",
       "      <td>CUS-2142601169</td>\n",
       "      <td>151.21 -33.87</td>\n",
       "      <td>debit</td>\n",
       "    </tr>\n",
       "    <tr>\n",
       "      <th>3</th>\n",
       "      <td>authorized</td>\n",
       "      <td>1.0</td>\n",
       "      <td>NaN</td>\n",
       "      <td>ACC-1037050564</td>\n",
       "      <td>AUD</td>\n",
       "      <td>153.10 -27.66</td>\n",
       "      <td>SALES-POS</td>\n",
       "      <td>48514682-c78a-4a88-b0da-2d6302e64673</td>\n",
       "      <td>NaN</td>\n",
       "      <td>Rhonda</td>\n",
       "      <td>...</td>\n",
       "      <td>40</td>\n",
       "      <td>Buderim</td>\n",
       "      <td>QLD</td>\n",
       "      <td>2018-08-01T01:38:45.000+0000</td>\n",
       "      <td>40.90</td>\n",
       "      <td>2698170da3704fd981b15e64a006079e</td>\n",
       "      <td>Australia</td>\n",
       "      <td>CUS-1614226872</td>\n",
       "      <td>153.05 -26.68</td>\n",
       "      <td>debit</td>\n",
       "    </tr>\n",
       "    <tr>\n",
       "      <th>4</th>\n",
       "      <td>authorized</td>\n",
       "      <td>1.0</td>\n",
       "      <td>NaN</td>\n",
       "      <td>ACC-1598451071</td>\n",
       "      <td>AUD</td>\n",
       "      <td>153.41 -27.95</td>\n",
       "      <td>SALES-POS</td>\n",
       "      <td>b4e02c10-0852-4273-b8fd-7b3395e32eb0</td>\n",
       "      <td>NaN</td>\n",
       "      <td>Diana</td>\n",
       "      <td>...</td>\n",
       "      <td>26</td>\n",
       "      <td>Mermaid Beach</td>\n",
       "      <td>QLD</td>\n",
       "      <td>2018-08-01T01:51:15.000+0000</td>\n",
       "      <td>3.25</td>\n",
       "      <td>329adf79878c4cf0aeb4188b4691c266</td>\n",
       "      <td>Australia</td>\n",
       "      <td>CUS-2487424745</td>\n",
       "      <td>153.44 -28.06</td>\n",
       "      <td>debit</td>\n",
       "    </tr>\n",
       "  </tbody>\n",
       "</table>\n",
       "<p>5 rows × 23 columns</p>\n",
       "</div>"
      ],
      "text/plain": [
       "       status  card_present_flag bpay_biller_code         account currency  \\\n",
       "0  authorized                1.0              NaN  ACC-1598451071      AUD   \n",
       "1  authorized                0.0              NaN  ACC-1598451071      AUD   \n",
       "2  authorized                1.0              NaN  ACC-1222300524      AUD   \n",
       "3  authorized                1.0              NaN  ACC-1037050564      AUD   \n",
       "4  authorized                1.0              NaN  ACC-1598451071      AUD   \n",
       "\n",
       "        long_lat txn_description                           merchant_id  \\\n",
       "0  153.41 -27.95             POS  81c48296-73be-44a7-befa-d053f48ce7cd   \n",
       "1  153.41 -27.95       SALES-POS  830a451c-316e-4a6a-bf25-e37caedca49e   \n",
       "2  151.23 -33.94             POS  835c231d-8cdf-4e96-859d-e9d571760cf0   \n",
       "3  153.10 -27.66       SALES-POS  48514682-c78a-4a88-b0da-2d6302e64673   \n",
       "4  153.41 -27.95       SALES-POS  b4e02c10-0852-4273-b8fd-7b3395e32eb0   \n",
       "\n",
       "   merchant_code first_name  ...  age merchant_suburb merchant_state  \\\n",
       "0            NaN      Diana  ...   26         Ashmore            QLD   \n",
       "1            NaN      Diana  ...   26          Sydney            NSW   \n",
       "2            NaN    Michael  ...   38          Sydney            NSW   \n",
       "3            NaN     Rhonda  ...   40         Buderim            QLD   \n",
       "4            NaN      Diana  ...   26   Mermaid Beach            QLD   \n",
       "\n",
       "                     extraction amount                    transaction_id  \\\n",
       "0  2018-08-01T01:01:15.000+0000  16.25  a623070bfead4541a6b0fff8a09e706c   \n",
       "1  2018-08-01T01:13:45.000+0000  14.19  13270a2a902145da9db4c951e04b51b9   \n",
       "2  2018-08-01T01:26:15.000+0000   6.42  feb79e7ecd7048a5a36ec889d1a94270   \n",
       "3  2018-08-01T01:38:45.000+0000  40.90  2698170da3704fd981b15e64a006079e   \n",
       "4  2018-08-01T01:51:15.000+0000   3.25  329adf79878c4cf0aeb4188b4691c266   \n",
       "\n",
       "     country     customer_id merchant_long_lat movement  \n",
       "0  Australia  CUS-2487424745     153.38 -27.99    debit  \n",
       "1  Australia  CUS-2487424745     151.21 -33.87    debit  \n",
       "2  Australia  CUS-2142601169     151.21 -33.87    debit  \n",
       "3  Australia  CUS-1614226872     153.05 -26.68    debit  \n",
       "4  Australia  CUS-2487424745     153.44 -28.06    debit  \n",
       "\n",
       "[5 rows x 23 columns]"
      ]
     },
     "execution_count": 2,
     "metadata": {},
     "output_type": "execute_result"
    }
   ],
   "source": [
    "df = pd.read_excel('../data/ANZ.xlsx')\n",
    "df.head()"
   ]
  },
  {
   "cell_type": "markdown",
   "id": "700e1ad3",
   "metadata": {},
   "source": [
    "## معلومات عن البيانات\n",
    "\n",
    "23 عمود\n",
    "\n",
    "12043 سطر\n",
    "\n",
    "هناك قيم مفقودة في بعض الاعمدة\n",
    "\n",
    "انواع البيانات صحيحة"
   ]
  },
  {
   "cell_type": "code",
   "execution_count": 3,
   "id": "2916665a",
   "metadata": {
    "scrolled": false
   },
   "outputs": [
    {
     "name": "stdout",
     "output_type": "stream",
     "text": [
      "<class 'pandas.core.frame.DataFrame'>\n",
      "RangeIndex: 12043 entries, 0 to 12042\n",
      "Data columns (total 23 columns):\n",
      " #   Column             Non-Null Count  Dtype         \n",
      "---  ------             --------------  -----         \n",
      " 0   status             12043 non-null  object        \n",
      " 1   card_present_flag  7717 non-null   float64       \n",
      " 2   bpay_biller_code   885 non-null    object        \n",
      " 3   account            12043 non-null  object        \n",
      " 4   currency           12043 non-null  object        \n",
      " 5   long_lat           12043 non-null  object        \n",
      " 6   txn_description    12043 non-null  object        \n",
      " 7   merchant_id        7717 non-null   object        \n",
      " 8   merchant_code      883 non-null    float64       \n",
      " 9   first_name         12043 non-null  object        \n",
      " 10  balance            12043 non-null  float64       \n",
      " 11  date               12043 non-null  datetime64[ns]\n",
      " 12  gender             12043 non-null  object        \n",
      " 13  age                12043 non-null  int64         \n",
      " 14  merchant_suburb    7717 non-null   object        \n",
      " 15  merchant_state     7717 non-null   object        \n",
      " 16  extraction         12043 non-null  object        \n",
      " 17  amount             12043 non-null  float64       \n",
      " 18  transaction_id     12043 non-null  object        \n",
      " 19  country            12043 non-null  object        \n",
      " 20  customer_id        12043 non-null  object        \n",
      " 21  merchant_long_lat  7717 non-null   object        \n",
      " 22  movement           12043 non-null  object        \n",
      "dtypes: datetime64[ns](1), float64(4), int64(1), object(17)\n",
      "memory usage: 2.1+ MB\n"
     ]
    }
   ],
   "source": [
    "df.info()"
   ]
  },
  {
   "cell_type": "markdown",
   "id": "691faa74",
   "metadata": {},
   "source": [
    "## ما هي الاعمدة الموجودة في البيانات؟"
   ]
  },
  {
   "cell_type": "code",
   "execution_count": 4,
   "id": "3e2741cc",
   "metadata": {},
   "outputs": [
    {
     "data": {
      "text/plain": [
       "Index(['status', 'card_present_flag', 'bpay_biller_code', 'account',\n",
       "       'currency', 'long_lat', 'txn_description', 'merchant_id',\n",
       "       'merchant_code', 'first_name', 'balance', 'date', 'gender', 'age',\n",
       "       'merchant_suburb', 'merchant_state', 'extraction', 'amount',\n",
       "       'transaction_id', 'country', 'customer_id', 'merchant_long_lat',\n",
       "       'movement'],\n",
       "      dtype='object')"
      ]
     },
     "execution_count": 4,
     "metadata": {},
     "output_type": "execute_result"
    }
   ],
   "source": [
    "df.columns"
   ]
  },
  {
   "cell_type": "markdown",
   "id": "05e73e8f",
   "metadata": {},
   "source": [
    "## نحذف الاعمدة التي لا نحتاجها و التي فيها قيم مفقودة كثيرة"
   ]
  },
  {
   "cell_type": "code",
   "execution_count": 5,
   "id": "1ee1f660",
   "metadata": {},
   "outputs": [
    {
     "data": {
      "text/html": [
       "<div>\n",
       "<style scoped>\n",
       "    .dataframe tbody tr th:only-of-type {\n",
       "        vertical-align: middle;\n",
       "    }\n",
       "\n",
       "    .dataframe tbody tr th {\n",
       "        vertical-align: top;\n",
       "    }\n",
       "\n",
       "    .dataframe thead th {\n",
       "        text-align: right;\n",
       "    }\n",
       "</style>\n",
       "<table border=\"1\" class=\"dataframe\">\n",
       "  <thead>\n",
       "    <tr style=\"text-align: right;\">\n",
       "      <th></th>\n",
       "      <th>status</th>\n",
       "      <th>card_present_flag</th>\n",
       "      <th>account</th>\n",
       "      <th>currency</th>\n",
       "      <th>txn_description</th>\n",
       "      <th>first_name</th>\n",
       "      <th>balance</th>\n",
       "      <th>date</th>\n",
       "      <th>gender</th>\n",
       "      <th>age</th>\n",
       "      <th>merchant_suburb</th>\n",
       "      <th>merchant_state</th>\n",
       "      <th>extraction</th>\n",
       "      <th>amount</th>\n",
       "      <th>transaction_id</th>\n",
       "      <th>country</th>\n",
       "      <th>customer_id</th>\n",
       "      <th>movement</th>\n",
       "    </tr>\n",
       "  </thead>\n",
       "  <tbody>\n",
       "    <tr>\n",
       "      <th>0</th>\n",
       "      <td>authorized</td>\n",
       "      <td>1.0</td>\n",
       "      <td>ACC-1598451071</td>\n",
       "      <td>AUD</td>\n",
       "      <td>POS</td>\n",
       "      <td>Diana</td>\n",
       "      <td>35.39</td>\n",
       "      <td>2018-08-01</td>\n",
       "      <td>F</td>\n",
       "      <td>26</td>\n",
       "      <td>Ashmore</td>\n",
       "      <td>QLD</td>\n",
       "      <td>2018-08-01T01:01:15.000+0000</td>\n",
       "      <td>16.25</td>\n",
       "      <td>a623070bfead4541a6b0fff8a09e706c</td>\n",
       "      <td>Australia</td>\n",
       "      <td>CUS-2487424745</td>\n",
       "      <td>debit</td>\n",
       "    </tr>\n",
       "    <tr>\n",
       "      <th>1</th>\n",
       "      <td>authorized</td>\n",
       "      <td>0.0</td>\n",
       "      <td>ACC-1598451071</td>\n",
       "      <td>AUD</td>\n",
       "      <td>SALES-POS</td>\n",
       "      <td>Diana</td>\n",
       "      <td>21.20</td>\n",
       "      <td>2018-08-01</td>\n",
       "      <td>F</td>\n",
       "      <td>26</td>\n",
       "      <td>Sydney</td>\n",
       "      <td>NSW</td>\n",
       "      <td>2018-08-01T01:13:45.000+0000</td>\n",
       "      <td>14.19</td>\n",
       "      <td>13270a2a902145da9db4c951e04b51b9</td>\n",
       "      <td>Australia</td>\n",
       "      <td>CUS-2487424745</td>\n",
       "      <td>debit</td>\n",
       "    </tr>\n",
       "    <tr>\n",
       "      <th>2</th>\n",
       "      <td>authorized</td>\n",
       "      <td>1.0</td>\n",
       "      <td>ACC-1222300524</td>\n",
       "      <td>AUD</td>\n",
       "      <td>POS</td>\n",
       "      <td>Michael</td>\n",
       "      <td>5.71</td>\n",
       "      <td>2018-08-01</td>\n",
       "      <td>M</td>\n",
       "      <td>38</td>\n",
       "      <td>Sydney</td>\n",
       "      <td>NSW</td>\n",
       "      <td>2018-08-01T01:26:15.000+0000</td>\n",
       "      <td>6.42</td>\n",
       "      <td>feb79e7ecd7048a5a36ec889d1a94270</td>\n",
       "      <td>Australia</td>\n",
       "      <td>CUS-2142601169</td>\n",
       "      <td>debit</td>\n",
       "    </tr>\n",
       "    <tr>\n",
       "      <th>3</th>\n",
       "      <td>authorized</td>\n",
       "      <td>1.0</td>\n",
       "      <td>ACC-1037050564</td>\n",
       "      <td>AUD</td>\n",
       "      <td>SALES-POS</td>\n",
       "      <td>Rhonda</td>\n",
       "      <td>2117.22</td>\n",
       "      <td>2018-08-01</td>\n",
       "      <td>F</td>\n",
       "      <td>40</td>\n",
       "      <td>Buderim</td>\n",
       "      <td>QLD</td>\n",
       "      <td>2018-08-01T01:38:45.000+0000</td>\n",
       "      <td>40.90</td>\n",
       "      <td>2698170da3704fd981b15e64a006079e</td>\n",
       "      <td>Australia</td>\n",
       "      <td>CUS-1614226872</td>\n",
       "      <td>debit</td>\n",
       "    </tr>\n",
       "    <tr>\n",
       "      <th>4</th>\n",
       "      <td>authorized</td>\n",
       "      <td>1.0</td>\n",
       "      <td>ACC-1598451071</td>\n",
       "      <td>AUD</td>\n",
       "      <td>SALES-POS</td>\n",
       "      <td>Diana</td>\n",
       "      <td>17.95</td>\n",
       "      <td>2018-08-01</td>\n",
       "      <td>F</td>\n",
       "      <td>26</td>\n",
       "      <td>Mermaid Beach</td>\n",
       "      <td>QLD</td>\n",
       "      <td>2018-08-01T01:51:15.000+0000</td>\n",
       "      <td>3.25</td>\n",
       "      <td>329adf79878c4cf0aeb4188b4691c266</td>\n",
       "      <td>Australia</td>\n",
       "      <td>CUS-2487424745</td>\n",
       "      <td>debit</td>\n",
       "    </tr>\n",
       "  </tbody>\n",
       "</table>\n",
       "</div>"
      ],
      "text/plain": [
       "       status  card_present_flag         account currency txn_description  \\\n",
       "0  authorized                1.0  ACC-1598451071      AUD             POS   \n",
       "1  authorized                0.0  ACC-1598451071      AUD       SALES-POS   \n",
       "2  authorized                1.0  ACC-1222300524      AUD             POS   \n",
       "3  authorized                1.0  ACC-1037050564      AUD       SALES-POS   \n",
       "4  authorized                1.0  ACC-1598451071      AUD       SALES-POS   \n",
       "\n",
       "  first_name  balance       date gender  age merchant_suburb merchant_state  \\\n",
       "0      Diana    35.39 2018-08-01      F   26         Ashmore            QLD   \n",
       "1      Diana    21.20 2018-08-01      F   26          Sydney            NSW   \n",
       "2    Michael     5.71 2018-08-01      M   38          Sydney            NSW   \n",
       "3     Rhonda  2117.22 2018-08-01      F   40         Buderim            QLD   \n",
       "4      Diana    17.95 2018-08-01      F   26   Mermaid Beach            QLD   \n",
       "\n",
       "                     extraction  amount                    transaction_id  \\\n",
       "0  2018-08-01T01:01:15.000+0000   16.25  a623070bfead4541a6b0fff8a09e706c   \n",
       "1  2018-08-01T01:13:45.000+0000   14.19  13270a2a902145da9db4c951e04b51b9   \n",
       "2  2018-08-01T01:26:15.000+0000    6.42  feb79e7ecd7048a5a36ec889d1a94270   \n",
       "3  2018-08-01T01:38:45.000+0000   40.90  2698170da3704fd981b15e64a006079e   \n",
       "4  2018-08-01T01:51:15.000+0000    3.25  329adf79878c4cf0aeb4188b4691c266   \n",
       "\n",
       "     country     customer_id movement  \n",
       "0  Australia  CUS-2487424745    debit  \n",
       "1  Australia  CUS-2487424745    debit  \n",
       "2  Australia  CUS-2142601169    debit  \n",
       "3  Australia  CUS-1614226872    debit  \n",
       "4  Australia  CUS-2487424745    debit  "
      ]
     },
     "execution_count": 5,
     "metadata": {},
     "output_type": "execute_result"
    }
   ],
   "source": [
    "df.drop(columns=['bpay_biller_code', 'merchant_long_lat', 'long_lat', 'merchant_code', 'merchant_id'], inplace=True)\n",
    "df.head()"
   ]
  },
  {
   "cell_type": "markdown",
   "id": "fbc116e7",
   "metadata": {},
   "source": [
    "## وصف احصائي بسيط للبيانات\n",
    "\n",
    "ممكن ان نرى متوسط الاعمار, الرصيد, التحويلات و ما هو حجم الرصيد او التحويلات\n",
    "\n",
    "الاعمار من 18 الى 78\n",
    "\n",
    "متوسط الاعمار هو 30\n",
    "\n",
    "اعلى رصيد هو 267128.52\n",
    "\n",
    "اعلى عملية تحويل هي 8835.98"
   ]
  },
  {
   "cell_type": "code",
   "execution_count": 6,
   "id": "67780121",
   "metadata": {},
   "outputs": [
    {
     "data": {
      "text/html": [
       "<div>\n",
       "<style scoped>\n",
       "    .dataframe tbody tr th:only-of-type {\n",
       "        vertical-align: middle;\n",
       "    }\n",
       "\n",
       "    .dataframe tbody tr th {\n",
       "        vertical-align: top;\n",
       "    }\n",
       "\n",
       "    .dataframe thead th {\n",
       "        text-align: right;\n",
       "    }\n",
       "</style>\n",
       "<table border=\"1\" class=\"dataframe\">\n",
       "  <thead>\n",
       "    <tr style=\"text-align: right;\">\n",
       "      <th></th>\n",
       "      <th>count</th>\n",
       "      <th>mean</th>\n",
       "      <th>std</th>\n",
       "      <th>min</th>\n",
       "      <th>25%</th>\n",
       "      <th>50%</th>\n",
       "      <th>75%</th>\n",
       "      <th>max</th>\n",
       "    </tr>\n",
       "  </thead>\n",
       "  <tbody>\n",
       "    <tr>\n",
       "      <th>card_present_flag</th>\n",
       "      <td>7717.0</td>\n",
       "      <td>0.802644</td>\n",
       "      <td>0.398029</td>\n",
       "      <td>0.00</td>\n",
       "      <td>1.000</td>\n",
       "      <td>1.00</td>\n",
       "      <td>1.000</td>\n",
       "      <td>1.00</td>\n",
       "    </tr>\n",
       "    <tr>\n",
       "      <th>balance</th>\n",
       "      <td>12043.0</td>\n",
       "      <td>14704.195553</td>\n",
       "      <td>31503.722652</td>\n",
       "      <td>0.24</td>\n",
       "      <td>3158.585</td>\n",
       "      <td>6432.01</td>\n",
       "      <td>12465.945</td>\n",
       "      <td>267128.52</td>\n",
       "    </tr>\n",
       "    <tr>\n",
       "      <th>age</th>\n",
       "      <td>12043.0</td>\n",
       "      <td>30.582330</td>\n",
       "      <td>10.046343</td>\n",
       "      <td>18.00</td>\n",
       "      <td>22.000</td>\n",
       "      <td>28.00</td>\n",
       "      <td>38.000</td>\n",
       "      <td>78.00</td>\n",
       "    </tr>\n",
       "    <tr>\n",
       "      <th>amount</th>\n",
       "      <td>12043.0</td>\n",
       "      <td>187.933588</td>\n",
       "      <td>592.599934</td>\n",
       "      <td>0.10</td>\n",
       "      <td>16.000</td>\n",
       "      <td>29.00</td>\n",
       "      <td>53.655</td>\n",
       "      <td>8835.98</td>\n",
       "    </tr>\n",
       "  </tbody>\n",
       "</table>\n",
       "</div>"
      ],
      "text/plain": [
       "                     count          mean           std    min       25%  \\\n",
       "card_present_flag   7717.0      0.802644      0.398029   0.00     1.000   \n",
       "balance            12043.0  14704.195553  31503.722652   0.24  3158.585   \n",
       "age                12043.0     30.582330     10.046343  18.00    22.000   \n",
       "amount             12043.0    187.933588    592.599934   0.10    16.000   \n",
       "\n",
       "                       50%        75%        max  \n",
       "card_present_flag     1.00      1.000       1.00  \n",
       "balance            6432.01  12465.945  267128.52  \n",
       "age                  28.00     38.000      78.00  \n",
       "amount               29.00     53.655    8835.98  "
      ]
     },
     "execution_count": 6,
     "metadata": {},
     "output_type": "execute_result"
    }
   ],
   "source": [
    "df.describe().T"
   ]
  },
  {
   "cell_type": "markdown",
   "id": "d6d652f0",
   "metadata": {},
   "source": [
    "## ما هي عدد القيم المفقودة؟\n",
    "\n",
    "ممكن ان نستبدل القيم المفقودة ب القيم الاكثر تكرار"
   ]
  },
  {
   "cell_type": "code",
   "execution_count": 8,
   "id": "25eb5035",
   "metadata": {
    "scrolled": false
   },
   "outputs": [
    {
     "data": {
      "text/plain": [
       "status                  0\n",
       "card_present_flag    4326\n",
       "account                 0\n",
       "currency                0\n",
       "txn_description         0\n",
       "first_name              0\n",
       "balance                 0\n",
       "date                    0\n",
       "gender                  0\n",
       "age                     0\n",
       "merchant_suburb      4326\n",
       "merchant_state       4326\n",
       "extraction              0\n",
       "amount                  0\n",
       "transaction_id          0\n",
       "country                 0\n",
       "customer_id             0\n",
       "movement                0\n",
       "dtype: int64"
      ]
     },
     "execution_count": 8,
     "metadata": {},
     "output_type": "execute_result"
    }
   ],
   "source": [
    "df.isna().sum()"
   ]
  },
  {
   "cell_type": "markdown",
   "id": "be952983",
   "metadata": {},
   "source": [
    "##  لنستبدل القيم المفقودة ب القيم الاكثر تكرارا"
   ]
  },
  {
   "cell_type": "code",
   "execution_count": 9,
   "id": "a6047088",
   "metadata": {},
   "outputs": [],
   "source": [
    "to_fillna_with_mode = ['card_present_flag', 'merchant_suburb', 'merchant_state']\n",
    "\n",
    "for col in to_fillna_with_mode:\n",
    "    df[col].fillna(df[col].mode()[0], inplace=True)"
   ]
  },
  {
   "cell_type": "code",
   "execution_count": 10,
   "id": "01c334e4",
   "metadata": {},
   "outputs": [
    {
     "data": {
      "text/plain": [
       "status               0\n",
       "card_present_flag    0\n",
       "account              0\n",
       "currency             0\n",
       "txn_description      0\n",
       "first_name           0\n",
       "balance              0\n",
       "date                 0\n",
       "gender               0\n",
       "age                  0\n",
       "merchant_suburb      0\n",
       "merchant_state       0\n",
       "extraction           0\n",
       "amount               0\n",
       "transaction_id       0\n",
       "country              0\n",
       "customer_id          0\n",
       "movement             0\n",
       "dtype: int64"
      ]
     },
     "execution_count": 10,
     "metadata": {},
     "output_type": "execute_result"
    }
   ],
   "source": [
    "df.isna().sum()"
   ]
  },
  {
   "cell_type": "markdown",
   "id": "397e29e9",
   "metadata": {},
   "source": [
    "##  ما هي عدد الاسطر المكررة؟"
   ]
  },
  {
   "cell_type": "code",
   "execution_count": 11,
   "id": "44856954",
   "metadata": {},
   "outputs": [
    {
     "data": {
      "text/plain": [
       "0"
      ]
     },
     "execution_count": 11,
     "metadata": {},
     "output_type": "execute_result"
    }
   ],
   "source": [
    "df.duplicated().sum()"
   ]
  },
  {
   "cell_type": "markdown",
   "id": "ad2b1e88",
   "metadata": {},
   "source": [
    "## نضرة بسيطة على البيانات الفئوية"
   ]
  },
  {
   "cell_type": "code",
   "execution_count": 12,
   "id": "a47fff4d",
   "metadata": {
    "scrolled": false
   },
   "outputs": [
    {
     "name": "stdout",
     "output_type": "stream",
     "text": [
      "authorized    7717\n",
      "posted        4326\n",
      "Name: status, dtype: int64\n",
      "\n",
      "**************************************************\n",
      "\n",
      "ACC-1598451071    578\n",
      "ACC-1222300524    303\n",
      "ACC-182446574     292\n",
      "ACC-4258502723    260\n",
      "ACC-1037050564    259\n",
      "                 ... \n",
      "ACC-1998563091     40\n",
      "ACC-3881031190     37\n",
      "ACC-721712940      34\n",
      "ACC-4059612845     31\n",
      "ACC-1217063613     25\n",
      "Name: account, Length: 100, dtype: int64\n",
      "\n",
      "**************************************************\n",
      "\n",
      "AUD    12043\n",
      "Name: currency, dtype: int64\n",
      "\n",
      "**************************************************\n",
      "\n",
      "SALES-POS     3934\n",
      "POS           3783\n",
      "PAYMENT       2600\n",
      "PAY/SALARY     883\n",
      "INTER BANK     742\n",
      "PHONE BANK     101\n",
      "Name: txn_description, dtype: int64\n",
      "\n",
      "**************************************************\n",
      "\n",
      "Michael      746\n",
      "Diana        578\n",
      "Jessica      408\n",
      "Joseph       391\n",
      "Jeffrey      388\n",
      "            ... \n",
      "Cindy         51\n",
      "Elizabeth     44\n",
      "David         40\n",
      "Andrew        34\n",
      "Jonathan      31\n",
      "Name: first_name, Length: 80, dtype: int64\n",
      "\n",
      "**************************************************\n",
      "\n",
      "M    6285\n",
      "F    5758\n",
      "Name: gender, dtype: int64\n",
      "\n",
      "**************************************************\n",
      "\n",
      "Melbourne        4581\n",
      "Sydney            233\n",
      "Southport          82\n",
      "Brisbane City      79\n",
      "Chatswood          55\n",
      "                 ... \n",
      "Sans Souci          1\n",
      "Marsfield           1\n",
      "Seymour             1\n",
      "Kilburn North       1\n",
      "Attadale            1\n",
      "Name: merchant_suburb, Length: 1609, dtype: int64\n",
      "\n",
      "**************************************************\n",
      "\n",
      "NSW    6495\n",
      "VIC    2131\n",
      "QLD    1556\n",
      "WA     1100\n",
      "SA      415\n",
      "NT      205\n",
      "ACT      73\n",
      "TAS      68\n",
      "Name: merchant_state, dtype: int64\n",
      "\n",
      "**************************************************\n",
      "\n",
      "2018-09-03T11:00:00.000+0000    10\n",
      "2018-08-07T17:00:00.000+0000     9\n",
      "2018-09-17T11:00:00.000+0000     9\n",
      "2018-08-28T17:00:00.000+0000     9\n",
      "2018-09-04T17:00:00.000+0000     9\n",
      "                                ..\n",
      "2018-08-21T09:43:49.000+0000     1\n",
      "2018-10-11T13:47:45.000+0000     1\n",
      "2018-10-12T20:06:01.000+0000     1\n",
      "2018-10-26T23:59:36.000+0000     1\n",
      "2018-10-10T11:01:00.000+0000     1\n",
      "Name: extraction, Length: 9442, dtype: int64\n",
      "\n",
      "**************************************************\n",
      "\n",
      "8c73c21c038740e2b36d7189301963fb    1\n",
      "41692d21b6eb433ea2a5f190da1873e5    1\n",
      "2060d7b090d949f2a9c1834941a3c518    1\n",
      "38a466d82f3146a882ba29fd7a436147    1\n",
      "e8acc8c6dfe24a6093c521519bd45cfa    1\n",
      "                                   ..\n",
      "43f1d8c4b787467cab3b0b9de9d7dc9a    1\n",
      "9aad6e2e9a874b5f89c9687d8d4f4ebb    1\n",
      "67dbcffdc2bd45449380d73e178ba1d9    1\n",
      "441750b39dce472880f0ad492ae074dd    1\n",
      "89d224fdd41d4bdcb76681ea200c4b89    1\n",
      "Name: transaction_id, Length: 12043, dtype: int64\n",
      "\n",
      "**************************************************\n",
      "\n",
      "Australia    12043\n",
      "Name: country, dtype: int64\n",
      "\n",
      "**************************************************\n",
      "\n",
      "CUS-2487424745    578\n",
      "CUS-2142601169    303\n",
      "CUS-3026014945    292\n",
      "CUS-3378712515    260\n",
      "CUS-1614226872    259\n",
      "                 ... \n",
      "CUS-3395687666     40\n",
      "CUS-3201519139     37\n",
      "CUS-1646183815     34\n",
      "CUS-495599312      31\n",
      "CUS-1739931018     25\n",
      "Name: customer_id, Length: 100, dtype: int64\n",
      "\n",
      "**************************************************\n",
      "\n",
      "debit     11160\n",
      "credit      883\n",
      "Name: movement, dtype: int64\n",
      "\n",
      "**************************************************\n",
      "\n"
     ]
    }
   ],
   "source": [
    "cat_columns = df.select_dtypes(include='object').columns\n",
    "\n",
    "for col in cat_columns:\n",
    "    print(df[col].value_counts())\n",
    "    print('\\n' + '*' * 50 + '\\n')"
   ]
  },
  {
   "cell_type": "markdown",
   "id": "73da2013",
   "metadata": {},
   "source": [
    "## رسم بياني بسيط يوضح لنا توزيع البيانات الفئوية"
   ]
  },
  {
   "cell_type": "code",
   "execution_count": 13,
   "id": "0c5937b1",
   "metadata": {
    "scrolled": false
   },
   "outputs": [
    {
     "data": {
      "image/png": "[encoded data removed]",
      "text/plain": [
       "<Figure size 1440x5040 with 5 Axes>"
      ]
     },
     "metadata": {},
     "output_type": "display_data"
    }
   ],
   "source": [
    "cat_cols_to_plot = ['movement', 'merchant_state', 'gender', 'txn_description', 'status']\n",
    "\n",
    "sns.set_style('whitegrid')  \n",
    "fig, ax = plt.subplots(len(cat_cols_to_plot), 1, figsize=(20,70))\n",
    "\n",
    "for x, col in enumerate(cat_cols_to_plot):\n",
    "    sns.countplot(x=df[col], ax=ax[x], palette='plasma')"
   ]
  },
  {
   "cell_type": "markdown",
   "id": "cd6d828c",
   "metadata": {},
   "source": [
    "## ما هي توزيعات البيانات الرقمية؟"
   ]
  },
  {
   "cell_type": "code",
   "execution_count": 14,
   "id": "45a39536",
   "metadata": {
    "scrolled": false
   },
   "outputs": [
    {
     "data": {
      "image/png": "[encoded data removed]",
      "text/plain": [
       "<Figure size 360x360 with 1 Axes>"
      ]
     },
     "metadata": {},
     "output_type": "display_data"
    },
    {
     "data": {
      "image/png": "[encoded data removed]",
      "text/plain": [
       "<Figure size 360x360 with 1 Axes>"
      ]
     },
     "metadata": {},
     "output_type": "display_data"
    },
    {
     "data": {
      "image/png": "[encoded data removed]",
      "text/plain": [
       "<Figure size 360x360 with 1 Axes>"
      ]
     },
     "metadata": {},
     "output_type": "display_data"
    },
    {
     "data": {
      "image/png": "[encoded data removed]",
      "text/plain": [
       "<Figure size 360x360 with 1 Axes>"
      ]
     },
     "metadata": {},
     "output_type": "display_data"
    }
   ],
   "source": [
    "for col in df.select_dtypes(include='number').columns:\n",
    "        sns.displot(x=df[col])"
   ]
  },
  {
   "cell_type": "markdown",
   "id": "13b96807",
   "metadata": {},
   "source": [
    "## التحويلات حسب التاريخ\n",
    "\n",
    "نلاحظ ان هناك يوم في كل شهر تتم التحويلات فيه بشكل اكبر و تقريبا ما بين يوم 18 و 19"
   ]
  },
  {
   "cell_type": "code",
   "execution_count": 16,
   "id": "2ddd36e6",
   "metadata": {},
   "outputs": [
    {
     "data": {
      "image/png": "[encoded data removed]",
      "text/plain": [
       "<Figure size 1440x720 with 1 Axes>"
      ]
     },
     "metadata": {},
     "output_type": "display_data"
    }
   ],
   "source": [
    "plt.figure(figsize=(20,10))\n",
    "plt.plot(df['date'], df['amount']);"
   ]
  },
  {
   "cell_type": "markdown",
   "id": "72d36429",
   "metadata": {},
   "source": [
    "## من هو صاحب اعلى التحويلات؟\n",
    "\n",
    "نفس الشخص بنفس الحجم 4 مرات\n",
    "\n",
    "و بلنظر الى تاريخ التحويلات نرى في كل 19 او 20 بلشهر يعمل هذه التحويلات"
   ]
  },
  {
   "cell_type": "code",
   "execution_count": 22,
   "id": "c90e36eb",
   "metadata": {
    "scrolled": true
   },
   "outputs": [
    {
     "data": {
      "text/html": [
       "<div>\n",
       "<style scoped>\n",
       "    .dataframe tbody tr th:only-of-type {\n",
       "        vertical-align: middle;\n",
       "    }\n",
       "\n",
       "    .dataframe tbody tr th {\n",
       "        vertical-align: top;\n",
       "    }\n",
       "\n",
       "    .dataframe thead th {\n",
       "        text-align: right;\n",
       "    }\n",
       "</style>\n",
       "<table border=\"1\" class=\"dataframe\">\n",
       "  <thead>\n",
       "    <tr style=\"text-align: right;\">\n",
       "      <th></th>\n",
       "      <th>status</th>\n",
       "      <th>account</th>\n",
       "      <th>date</th>\n",
       "      <th>first_name</th>\n",
       "      <th>gender</th>\n",
       "      <th>movement</th>\n",
       "      <th>amount</th>\n",
       "    </tr>\n",
       "  </thead>\n",
       "  <tbody>\n",
       "    <tr>\n",
       "      <th>2401</th>\n",
       "      <td>posted</td>\n",
       "      <td>ACC-1523339231</td>\n",
       "      <td>2018-08-20</td>\n",
       "      <td>Tim</td>\n",
       "      <td>M</td>\n",
       "      <td>credit</td>\n",
       "      <td>8835.98</td>\n",
       "    </tr>\n",
       "    <tr>\n",
       "      <th>6529</th>\n",
       "      <td>posted</td>\n",
       "      <td>ACC-1523339231</td>\n",
       "      <td>2018-09-20</td>\n",
       "      <td>Tim</td>\n",
       "      <td>M</td>\n",
       "      <td>credit</td>\n",
       "      <td>8835.98</td>\n",
       "    </tr>\n",
       "    <tr>\n",
       "      <th>10429</th>\n",
       "      <td>posted</td>\n",
       "      <td>ACC-1523339231</td>\n",
       "      <td>2018-10-19</td>\n",
       "      <td>Tim</td>\n",
       "      <td>M</td>\n",
       "      <td>credit</td>\n",
       "      <td>8835.98</td>\n",
       "    </tr>\n",
       "    <tr>\n",
       "      <th>10430</th>\n",
       "      <td>posted</td>\n",
       "      <td>ACC-1523339231</td>\n",
       "      <td>2018-10-19</td>\n",
       "      <td>Tim</td>\n",
       "      <td>M</td>\n",
       "      <td>credit</td>\n",
       "      <td>8835.98</td>\n",
       "    </tr>\n",
       "  </tbody>\n",
       "</table>\n",
       "</div>"
      ],
      "text/plain": [
       "       status         account       date first_name gender movement   amount\n",
       "2401   posted  ACC-1523339231 2018-08-20        Tim      M   credit  8835.98\n",
       "6529   posted  ACC-1523339231 2018-09-20        Tim      M   credit  8835.98\n",
       "10429  posted  ACC-1523339231 2018-10-19        Tim      M   credit  8835.98\n",
       "10430  posted  ACC-1523339231 2018-10-19        Tim      M   credit  8835.98"
      ]
     },
     "execution_count": 22,
     "metadata": {},
     "output_type": "execute_result"
    }
   ],
   "source": [
    "df[df['amount'] == df['amount'].max()][['status', 'account', 'date', 'first_name', 'gender', 'movement', 'amount']]"
   ]
  },
  {
   "cell_type": "markdown",
   "id": "47a008f9",
   "metadata": {},
   "source": [
    "## من هم  اصحاب ادنى التحويلات؟"
   ]
  },
  {
   "cell_type": "code",
   "execution_count": 28,
   "id": "487fc083",
   "metadata": {},
   "outputs": [
    {
     "data": {
      "text/html": [
       "<div>\n",
       "<style scoped>\n",
       "    .dataframe tbody tr th:only-of-type {\n",
       "        vertical-align: middle;\n",
       "    }\n",
       "\n",
       "    .dataframe tbody tr th {\n",
       "        vertical-align: top;\n",
       "    }\n",
       "\n",
       "    .dataframe thead th {\n",
       "        text-align: right;\n",
       "    }\n",
       "</style>\n",
       "<table border=\"1\" class=\"dataframe\">\n",
       "  <thead>\n",
       "    <tr style=\"text-align: right;\">\n",
       "      <th></th>\n",
       "      <th>status</th>\n",
       "      <th>card_present_flag</th>\n",
       "      <th>account</th>\n",
       "      <th>currency</th>\n",
       "      <th>txn_description</th>\n",
       "      <th>first_name</th>\n",
       "      <th>balance</th>\n",
       "      <th>date</th>\n",
       "      <th>gender</th>\n",
       "      <th>age</th>\n",
       "      <th>merchant_suburb</th>\n",
       "      <th>merchant_state</th>\n",
       "      <th>extraction</th>\n",
       "      <th>amount</th>\n",
       "      <th>transaction_id</th>\n",
       "      <th>country</th>\n",
       "      <th>customer_id</th>\n",
       "      <th>movement</th>\n",
       "    </tr>\n",
       "  </thead>\n",
       "  <tbody>\n",
       "    <tr>\n",
       "      <th>5395</th>\n",
       "      <td>authorized</td>\n",
       "      <td>0.0</td>\n",
       "      <td>ACC-211792489</td>\n",
       "      <td>AUD</td>\n",
       "      <td>SALES-POS</td>\n",
       "      <td>Jacqueline</td>\n",
       "      <td>6090.60</td>\n",
       "      <td>2018-09-12</td>\n",
       "      <td>F</td>\n",
       "      <td>30</td>\n",
       "      <td>Melbourne</td>\n",
       "      <td>VIC</td>\n",
       "      <td>2018-09-12T09:02:37.000+0000</td>\n",
       "      <td>0.1</td>\n",
       "      <td>daab7b7e1e5c4503b87d96358d9b4bee</td>\n",
       "      <td>Australia</td>\n",
       "      <td>CUS-497688347</td>\n",
       "      <td>debit</td>\n",
       "    </tr>\n",
       "    <tr>\n",
       "      <th>6428</th>\n",
       "      <td>authorized</td>\n",
       "      <td>1.0</td>\n",
       "      <td>ACC-3541460373</td>\n",
       "      <td>AUD</td>\n",
       "      <td>POS</td>\n",
       "      <td>Jeffrey</td>\n",
       "      <td>3281.56</td>\n",
       "      <td>2018-09-19</td>\n",
       "      <td>M</td>\n",
       "      <td>24</td>\n",
       "      <td>Southbank</td>\n",
       "      <td>VIC</td>\n",
       "      <td>2018-09-19T17:21:28.000+0000</td>\n",
       "      <td>0.1</td>\n",
       "      <td>392deeb7fff748f48b19ad95381e8aa2</td>\n",
       "      <td>Australia</td>\n",
       "      <td>CUS-1433879684</td>\n",
       "      <td>debit</td>\n",
       "    </tr>\n",
       "    <tr>\n",
       "      <th>6592</th>\n",
       "      <td>authorized</td>\n",
       "      <td>1.0</td>\n",
       "      <td>ACC-2265520058</td>\n",
       "      <td>AUD</td>\n",
       "      <td>POS</td>\n",
       "      <td>Catherine</td>\n",
       "      <td>3103.82</td>\n",
       "      <td>2018-09-20</td>\n",
       "      <td>F</td>\n",
       "      <td>26</td>\n",
       "      <td>Woollahra</td>\n",
       "      <td>NSW</td>\n",
       "      <td>2018-09-20T21:49:05.000+0000</td>\n",
       "      <td>0.1</td>\n",
       "      <td>dd9a6c8d1c454705a62e7a67592698be</td>\n",
       "      <td>Australia</td>\n",
       "      <td>CUS-331942311</td>\n",
       "      <td>debit</td>\n",
       "    </tr>\n",
       "    <tr>\n",
       "      <th>8188</th>\n",
       "      <td>authorized</td>\n",
       "      <td>1.0</td>\n",
       "      <td>ACC-1598451071</td>\n",
       "      <td>AUD</td>\n",
       "      <td>SALES-POS</td>\n",
       "      <td>Diana</td>\n",
       "      <td>2705.97</td>\n",
       "      <td>2018-10-03</td>\n",
       "      <td>F</td>\n",
       "      <td>26</td>\n",
       "      <td>Broadbeach</td>\n",
       "      <td>QLD</td>\n",
       "      <td>2018-10-03T03:19:59.000+0000</td>\n",
       "      <td>0.1</td>\n",
       "      <td>4f3a5aff070e43fcaeebd0ae0cd24caa</td>\n",
       "      <td>Australia</td>\n",
       "      <td>CUS-2487424745</td>\n",
       "      <td>debit</td>\n",
       "    </tr>\n",
       "    <tr>\n",
       "      <th>11523</th>\n",
       "      <td>authorized</td>\n",
       "      <td>0.0</td>\n",
       "      <td>ACC-3771436525</td>\n",
       "      <td>AUD</td>\n",
       "      <td>SALES-POS</td>\n",
       "      <td>Derek</td>\n",
       "      <td>7715.69</td>\n",
       "      <td>2018-10-27</td>\n",
       "      <td>M</td>\n",
       "      <td>20</td>\n",
       "      <td>Malvern</td>\n",
       "      <td>VIC</td>\n",
       "      <td>2018-10-27T18:53:02.000+0000</td>\n",
       "      <td>0.1</td>\n",
       "      <td>cce50d62571a417f8df6f74e9e11072c</td>\n",
       "      <td>Australia</td>\n",
       "      <td>CUS-3325710106</td>\n",
       "      <td>debit</td>\n",
       "    </tr>\n",
       "  </tbody>\n",
       "</table>\n",
       "</div>"
      ],
      "text/plain": [
       "           status  card_present_flag         account currency txn_description  \\\n",
       "5395   authorized                0.0   ACC-211792489      AUD       SALES-POS   \n",
       "6428   authorized                1.0  ACC-3541460373      AUD             POS   \n",
       "6592   authorized                1.0  ACC-2265520058      AUD             POS   \n",
       "8188   authorized                1.0  ACC-1598451071      AUD       SALES-POS   \n",
       "11523  authorized                0.0  ACC-3771436525      AUD       SALES-POS   \n",
       "\n",
       "       first_name  balance       date gender  age merchant_suburb  \\\n",
       "5395   Jacqueline  6090.60 2018-09-12      F   30       Melbourne   \n",
       "6428      Jeffrey  3281.56 2018-09-19      M   24       Southbank   \n",
       "6592    Catherine  3103.82 2018-09-20      F   26       Woollahra   \n",
       "8188        Diana  2705.97 2018-10-03      F   26      Broadbeach   \n",
       "11523       Derek  7715.69 2018-10-27      M   20         Malvern   \n",
       "\n",
       "      merchant_state                    extraction  amount  \\\n",
       "5395             VIC  2018-09-12T09:02:37.000+0000     0.1   \n",
       "6428             VIC  2018-09-19T17:21:28.000+0000     0.1   \n",
       "6592             NSW  2018-09-20T21:49:05.000+0000     0.1   \n",
       "8188             QLD  2018-10-03T03:19:59.000+0000     0.1   \n",
       "11523            VIC  2018-10-27T18:53:02.000+0000     0.1   \n",
       "\n",
       "                         transaction_id    country     customer_id movement  \n",
       "5395   daab7b7e1e5c4503b87d96358d9b4bee  Australia   CUS-497688347    debit  \n",
       "6428   392deeb7fff748f48b19ad95381e8aa2  Australia  CUS-1433879684    debit  \n",
       "6592   dd9a6c8d1c454705a62e7a67592698be  Australia   CUS-331942311    debit  \n",
       "8188   4f3a5aff070e43fcaeebd0ae0cd24caa  Australia  CUS-2487424745    debit  \n",
       "11523  cce50d62571a417f8df6f74e9e11072c  Australia  CUS-3325710106    debit  "
      ]
     },
     "execution_count": 28,
     "metadata": {},
     "output_type": "execute_result"
    }
   ],
   "source": [
    "df[df['amount'] == df['amount'].min()]"
   ]
  },
  {
   "cell_type": "markdown",
   "id": "c438cfdd",
   "metadata": {},
   "source": [
    "## هل النساء ام الرجال الاكثر تحويلا للمبالغ المالية؟\n",
    "\n",
    "الرجال هم الاكثر تحويلا \n",
    "\n",
    "اكبر حجم للنساء هو 7081\n",
    "\n",
    "اكبر حجم للرجال هو 8835"
   ]
  },
  {
   "cell_type": "code",
   "execution_count": 25,
   "id": "33838388",
   "metadata": {
    "scrolled": true
   },
   "outputs": [
    {
     "data": {
      "text/html": [
       "<div>\n",
       "<style scoped>\n",
       "    .dataframe tbody tr th:only-of-type {\n",
       "        vertical-align: middle;\n",
       "    }\n",
       "\n",
       "    .dataframe tbody tr th {\n",
       "        vertical-align: top;\n",
       "    }\n",
       "\n",
       "    .dataframe thead th {\n",
       "        text-align: right;\n",
       "    }\n",
       "</style>\n",
       "<table border=\"1\" class=\"dataframe\">\n",
       "  <thead>\n",
       "    <tr style=\"text-align: right;\">\n",
       "      <th></th>\n",
       "      <th>count</th>\n",
       "      <th>mean</th>\n",
       "      <th>std</th>\n",
       "      <th>min</th>\n",
       "      <th>25%</th>\n",
       "      <th>50%</th>\n",
       "      <th>75%</th>\n",
       "      <th>max</th>\n",
       "    </tr>\n",
       "    <tr>\n",
       "      <th>gender</th>\n",
       "      <th></th>\n",
       "      <th></th>\n",
       "      <th></th>\n",
       "      <th></th>\n",
       "      <th></th>\n",
       "      <th></th>\n",
       "      <th></th>\n",
       "      <th></th>\n",
       "    </tr>\n",
       "  </thead>\n",
       "  <tbody>\n",
       "    <tr>\n",
       "      <th>F</th>\n",
       "      <td>5758.0</td>\n",
       "      <td>168.517303</td>\n",
       "      <td>525.177524</td>\n",
       "      <td>0.1</td>\n",
       "      <td>15.32</td>\n",
       "      <td>27.58</td>\n",
       "      <td>51.385</td>\n",
       "      <td>7081.09</td>\n",
       "    </tr>\n",
       "    <tr>\n",
       "      <th>M</th>\n",
       "      <td>6285.0</td>\n",
       "      <td>205.721809</td>\n",
       "      <td>647.774391</td>\n",
       "      <td>0.1</td>\n",
       "      <td>16.68</td>\n",
       "      <td>30.00</td>\n",
       "      <td>55.780</td>\n",
       "      <td>8835.98</td>\n",
       "    </tr>\n",
       "  </tbody>\n",
       "</table>\n",
       "</div>"
      ],
      "text/plain": [
       "         count        mean         std  min    25%    50%     75%      max\n",
       "gender                                                                    \n",
       "F       5758.0  168.517303  525.177524  0.1  15.32  27.58  51.385  7081.09\n",
       "M       6285.0  205.721809  647.774391  0.1  16.68  30.00  55.780  8835.98"
      ]
     },
     "execution_count": 25,
     "metadata": {},
     "output_type": "execute_result"
    }
   ],
   "source": [
    "df.groupby('gender').describe()['amount']"
   ]
  },
  {
   "cell_type": "markdown",
   "id": "a8955e35",
   "metadata": {},
   "source": [
    "## من هو صاحب اعلى رصيد؟"
   ]
  },
  {
   "cell_type": "code",
   "execution_count": 27,
   "id": "d7bcbd09",
   "metadata": {},
   "outputs": [
    {
     "data": {
      "text/html": [
       "<div>\n",
       "<style scoped>\n",
       "    .dataframe tbody tr th:only-of-type {\n",
       "        vertical-align: middle;\n",
       "    }\n",
       "\n",
       "    .dataframe tbody tr th {\n",
       "        vertical-align: top;\n",
       "    }\n",
       "\n",
       "    .dataframe thead th {\n",
       "        text-align: right;\n",
       "    }\n",
       "</style>\n",
       "<table border=\"1\" class=\"dataframe\">\n",
       "  <thead>\n",
       "    <tr style=\"text-align: right;\">\n",
       "      <th></th>\n",
       "      <th>status</th>\n",
       "      <th>card_present_flag</th>\n",
       "      <th>account</th>\n",
       "      <th>currency</th>\n",
       "      <th>txn_description</th>\n",
       "      <th>first_name</th>\n",
       "      <th>balance</th>\n",
       "      <th>date</th>\n",
       "      <th>gender</th>\n",
       "      <th>age</th>\n",
       "      <th>merchant_suburb</th>\n",
       "      <th>merchant_state</th>\n",
       "      <th>extraction</th>\n",
       "      <th>amount</th>\n",
       "      <th>transaction_id</th>\n",
       "      <th>country</th>\n",
       "      <th>customer_id</th>\n",
       "      <th>movement</th>\n",
       "    </tr>\n",
       "  </thead>\n",
       "  <tbody>\n",
       "    <tr>\n",
       "      <th>10467</th>\n",
       "      <td>posted</td>\n",
       "      <td>1.0</td>\n",
       "      <td>ACC-2014856841</td>\n",
       "      <td>AUD</td>\n",
       "      <td>PAY/SALARY</td>\n",
       "      <td>Patrick</td>\n",
       "      <td>267128.52</td>\n",
       "      <td>2018-10-19</td>\n",
       "      <td>M</td>\n",
       "      <td>46</td>\n",
       "      <td>Melbourne</td>\n",
       "      <td>NSW</td>\n",
       "      <td>2018-10-19T17:00:00.000+0000</td>\n",
       "      <td>2179.96</td>\n",
       "      <td>a6ac361f68cf4442804fa8aa785b3ac7</td>\n",
       "      <td>Australia</td>\n",
       "      <td>CUS-2370108457</td>\n",
       "      <td>credit</td>\n",
       "    </tr>\n",
       "  </tbody>\n",
       "</table>\n",
       "</div>"
      ],
      "text/plain": [
       "       status  card_present_flag         account currency txn_description  \\\n",
       "10467  posted                1.0  ACC-2014856841      AUD      PAY/SALARY   \n",
       "\n",
       "      first_name    balance       date gender  age merchant_suburb  \\\n",
       "10467    Patrick  267128.52 2018-10-19      M   46       Melbourne   \n",
       "\n",
       "      merchant_state                    extraction   amount  \\\n",
       "10467            NSW  2018-10-19T17:00:00.000+0000  2179.96   \n",
       "\n",
       "                         transaction_id    country     customer_id movement  \n",
       "10467  a6ac361f68cf4442804fa8aa785b3ac7  Australia  CUS-2370108457   credit  "
      ]
     },
     "execution_count": 27,
     "metadata": {},
     "output_type": "execute_result"
    }
   ],
   "source": [
    "df[df['balance'] == df['balance'].max()]"
   ]
  },
  {
   "cell_type": "markdown",
   "id": "7d034242",
   "metadata": {},
   "source": [
    "## ما هي الوسيلة الاكثر استخداما؟\n",
    "\n",
    "debit vs credit\n",
    "\n",
    "نلاحظ فارق كبير بعدد الاستخدام"
   ]
  },
  {
   "cell_type": "code",
   "execution_count": 32,
   "id": "b5ed8149",
   "metadata": {
    "scrolled": false
   },
   "outputs": [
    {
     "data": {
      "image/png": "[encoded data removed]",
      "text/plain": [
       "<Figure size 360x360 with 1 Axes>"
      ]
     },
     "metadata": {},
     "output_type": "display_data"
    }
   ],
   "source": [
    "sns.displot(df['movement']);"
   ]
  },
  {
   "cell_type": "markdown",
   "id": "b1fbf557",
   "metadata": {},
   "source": [
    "## ما هي المدينة التي يوجد بها تحويلات اكثر؟"
   ]
  },
  {
   "cell_type": "code",
   "execution_count": 40,
   "id": "67c8d525",
   "metadata": {},
   "outputs": [
    {
     "data": {
      "image/png": "[encoded data removed]",
      "text/plain": [
       "<Figure size 432x288 with 1 Axes>"
      ]
     },
     "metadata": {},
     "output_type": "display_data"
    }
   ],
   "source": [
    "sns.countplot(x='merchant_state', data=df);"
   ]
  }
 ],
 "metadata": {
  "kernelspec": {
   "display_name": "Python 3",
   "language": "python",
   "name": "python3"
  },
  "language_info": {
   "codemirror_mode": {
    "name": "ipython",
    "version": 3
   },
   "file_extension": ".py",
   "mimetype": "text/x-python",
   "name": "python",
   "nbconvert_exporter": "python",
   "pygments_lexer": "ipython3",
   "version": "3.8.8"
  }
 },
 "nbformat": 4,
 "nbformat_minor": 5
}
